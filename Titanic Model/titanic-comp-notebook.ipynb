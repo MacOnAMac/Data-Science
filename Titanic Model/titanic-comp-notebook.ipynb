
  {
   "cell_type": "code",
   "execution_count": 2,
   "id": "f807e2d9",
   "metadata": {
    "execution": {
     "iopub.execute_input": "2023-03-27T21:14:03.167495Z",
     "iopub.status.busy": "2023-03-27T21:14:03.167059Z",
     "iopub.status.idle": "2023-03-27T21:14:13.017616Z",
     "shell.execute_reply": "2023-03-27T21:14:13.016409Z"
    },
    "papermill": {
     "duration": 9.864974,
     "end_time": "2023-03-27T21:14:13.020901",
     "exception": false,
     "start_time": "2023-03-27T21:14:03.155927",
     "status": "completed"
    },
    "tags": []
   },
   "outputs": [
    {
     "data": {
      "text/html": [
       "<div>\n",
       "<style scoped>\n",
       "    .dataframe tbody tr th:only-of-type {\n",
       "        vertical-align: middle;\n",
       "    }\n",
       "\n",
       "    .dataframe tbody tr th {\n",
       "        vertical-align: top;\n",
       "    }\n",
       "\n",
       "    .dataframe thead th {\n",
       "        text-align: right;\n",
       "    }\n",
       "</style>\n",
       "<table border=\"1\" class=\"dataframe\">\n",
       "  <thead>\n",
       "    <tr style=\"text-align: right;\">\n",
       "      <th></th>\n",
       "      <th>variable</th>\n",
       "      <th>dtype</th>\n",
       "      <th>count</th>\n",
       "      <th>unique</th>\n",
       "      <th>missing</th>\n",
       "      <th>pc_missing</th>\n",
       "    </tr>\n",
       "  </thead>\n",
       "  <tbody>\n",
       "    <tr>\n",
       "      <th>0</th>\n",
       "      <td>PassengerId</td>\n",
       "      <td>int64</td>\n",
       "      <td>891</td>\n",
       "      <td>891</td>\n",
       "      <td>0</td>\n",
       "      <td>0.00</td>\n",
       "    </tr>\n",
       "    <tr>\n",
       "      <th>1</th>\n",
       "      <td>Pclass</td>\n",
       "      <td>int64</td>\n",
       "      <td>891</td>\n",
       "      <td>3</td>\n",
       "      <td>0</td>\n",
       "      <td>0.00</td>\n",
       "    </tr>\n",
       "    <tr>\n",
       "      <th>2</th>\n",
       "      <td>Name</td>\n",
       "      <td>object</td>\n",
       "      <td>891</td>\n",
       "      <td>891</td>\n",
       "      <td>0</td>\n",
       "      <td>0.00</td>\n",
       "    </tr>\n",
       "    <tr>\n",
       "      <th>3</th>\n",
       "      <td>Sex</td>\n",
       "      <td>object</td>\n",
       "      <td>891</td>\n",
       "      <td>2</td>\n",
       "      <td>0</td>\n",
       "      <td>0.00</td>\n",
       "    </tr>\n",
       "    <tr>\n",
       "      <th>4</th>\n",
       "      <td>Age</td>\n",
       "      <td>float64</td>\n",
       "      <td>891</td>\n",
       "      <td>89</td>\n",
       "      <td>177</td>\n",
       "      <td>19.87</td>\n",
       "    </tr>\n",
       "    <tr>\n",
       "      <th>5</th>\n",
       "      <td>SibSp</td>\n",
       "      <td>int64</td>\n",
       "      <td>891</td>\n",
       "      <td>7</td>\n",
       "      <td>0</td>\n",
       "      <td>0.00</td>\n",
       "    </tr>\n",
       "    <tr>\n",
       "      <th>6</th>\n",
       "      <td>Parch</td>\n",
       "      <td>int64</td>\n",
       "      <td>891</td>\n",
       "      <td>7</td>\n",
       "      <td>0</td>\n",
       "      <td>0.00</td>\n",
       "    </tr>\n",
       "    <tr>\n",
       "      <th>7</th>\n",
       "      <td>Ticket</td>\n",
       "      <td>object</td>\n",
       "      <td>891</td>\n",
       "      <td>681</td>\n",
       "      <td>0</td>\n",
       "      <td>0.00</td>\n",
       "    </tr>\n",
       "    <tr>\n",
       "      <th>8</th>\n",
       "      <td>Fare</td>\n",
       "      <td>float64</td>\n",
       "      <td>891</td>\n",
       "      <td>248</td>\n",
       "      <td>0</td>\n",
       "      <td>0.00</td>\n",
       "    </tr>\n",
       "    <tr>\n",
       "      <th>9</th>\n",
       "      <td>Cabin</td>\n",
       "      <td>object</td>\n",
       "      <td>891</td>\n",
       "      <td>148</td>\n",
       "      <td>687</td>\n",
       "      <td>77.10</td>\n",
       "    </tr>\n",
       "    <tr>\n",
       "      <th>10</th>\n",
       "      <td>Embarked</td>\n",
       "      <td>object</td>\n",
       "      <td>891</td>\n",
       "      <td>4</td>\n",
       "      <td>2</td>\n",
       "      <td>0.22</td>\n",
       "    </tr>\n",
       "  </tbody>\n",
       "</table>\n",
       "</div>"
      ],
      "text/plain": [
       "       variable    dtype  count  unique  missing  pc_missing\n",
       "0   PassengerId    int64    891     891        0        0.00\n",
       "1        Pclass    int64    891       3        0        0.00\n",
       "2          Name   object    891     891        0        0.00\n",
       "3           Sex   object    891       2        0        0.00\n",
       "4           Age  float64    891      89      177       19.87\n",
       "5         SibSp    int64    891       7        0        0.00\n",
       "6         Parch    int64    891       7        0        0.00\n",
       "7        Ticket   object    891     681        0        0.00\n",
       "8          Fare  float64    891     248        0        0.00\n",
       "9         Cabin   object    891     148      687       77.10\n",
       "10     Embarked   object    891       4        2        0.22"
      ]
     },
     "execution_count": 2,
     "metadata": {},
     "output_type": "execute_result"
    }
   ],
   "source": [
    "import numpy as np \n",
    "from numpy.random import seed\n",
    "import pandas as pd \n",
    "import matplotlib.pyplot as plt\n",
    "import seaborn as sns\n",
    "from sklearn.pipeline import Pipeline\n",
    "from sklearn.model_selection import train_test_split, GridSearchCV\n",
    "from sklearn.preprocessing import OrdinalEncoder, StandardScaler, OneHotEncoder, MinMaxScaler, StandardScaler\n",
    "from sklearn.impute import SimpleImputer\n",
    "from sklearn.pipeline import make_pipeline\n",
    "from sklearn.compose import make_column_transformer\n",
    "from scikeras.wrappers import KerasClassifier\n",
    "from tensorflow import keras\n",
    "from tensorflow.keras import layers\n",
    "from keras.models import Sequential\n",
    "from keras.layers import Dense, Activation, Dropout, BatchNormalization\n",
    "\n",
    "\n",
    "def initial_data_stats(df):\n",
    "    \n",
    "    \"Takes a dataframe and produces a breakdown of all variabels and corresponding types, unique values, and counts including missing\"\n",
    "    \n",
    "    variables = []\n",
    "    dtypes = []\n",
    "    count = []\n",
    "    unique = []\n",
    "    missing = []\n",
    "    pc_missing = []\n",
    "    for item in df.columns:\n",
    "        variables.append(item)\n",
    "        dtypes.append(df[item].dtype)\n",
    "        count.append(len(df[item]))\n",
    "        unique.append(len(df[item].unique()))\n",
    "        missing.append(df[item].isna().sum())\n",
    "        pc_missing.append(round((df[item].isna().sum() / len(df[item])) * 100, 2))\n",
    "\n",
    "    output = pd.DataFrame({\n",
    "        'variable': variables, \n",
    "        'dtype': dtypes,\n",
    "        'count': count,\n",
    "        'unique': unique,\n",
    "        'missing': missing, \n",
    "        'pc_missing': pc_missing\n",
    "    })    \n",
    "    return output\n",
    "\n",
    "\n",
    "def create_model(lyrs=[128, 64, 32, 8], act='relu', opt='Adam', dr=0.0, lr=0.0):\n",
    "    \n",
    "    \"Returns neural network model\"\n",
    "   \n",
    "    \n",
    "    model = Sequential()\n",
    "    \n",
    "    # create first hidden layer\n",
    "    model.add(BatchNormalization(input_shape=input_shape))\n",
    "    model.add(Dense(lyrs[0], input_dim=X_train.shape[1], activation=act))\n",
    "    \n",
    "    # create additional hidden layers\n",
    "    for i in range(1,len(lyrs)):\n",
    "        model.add(BatchNormalization(input_shape=input_shape))\n",
    "        model.add(Dense(lyrs[i], activation=act))\n",
    "        model.add(BatchNormalization(input_shape=input_shape))\n",
    "        model.add(Dropout(dr))\n",
    "   \n",
    "    \n",
    "    \n",
    "    # create output layer\n",
    "    model.add(Dense(1, activation='sigmoid'))  # output layer\n",
    "    \n",
    "    #Compile model\n",
    "    model.compile(loss='binary_crossentropy', optimizer=opt, metrics=['accuracy'])\n",
    "    \n",
    "    return model\n",
    "\n",
    "\n",
    "def Network_optimisation(model, inputs):\n",
    "    \"Takes in a neural network model, a tuple of inputs [[layers], [drop_rates], [learning rates], [epochs]] to be used as grid search params\"\n",
    "    \"Returns the grid search results as a dictionary \"\n",
    "    \n",
    "    number_of_inputs = len(inputs)\n",
    "    \n",
    "    layers, drops, lrs, eps = inputs[0], inputs[1], inputs[2], inputs[3]\n",
    "    param_grid = dict(lyrs=layers, dr=drops, lr=lrs, epochs=eps)\n",
    "    \n",
    "    \n",
    "    grid = GridSearchCV(estimator=model, param_grid=param_grid, verbose=2)\n",
    "    grid_result = grid.fit(X_train, y_train)\n",
    "    \n",
    "    return grid_result\n",
    "    \n",
    "    \n",
    "\n",
    "\n",
    "#Load data\n",
    "train_data = pd.read_csv(\"/kaggle/input/titanic/train.csv\")\n",
    "test_data = pd.read_csv(\"/kaggle/input/titanic/test.csv\")\n",
    "\n",
    "\n",
    "\n",
    "#Split target from data\n",
    "X = train_data.copy()\n",
    "y = X.pop('Survived')\n",
    "\n",
    "\n",
    "\n",
    "initial_data_stats(X)"
   ]
  },
  {
   "cell_type": "markdown",
   "id": "03e94245",
   "metadata": {
    "execution": {
     "iopub.execute_input": "2023-03-26T17:17:56.561601Z",
     "iopub.status.busy": "2023-03-26T17:17:56.561221Z",
     "iopub.status.idle": "2023-03-26T17:17:56.617804Z",
     "shell.execute_reply": "2023-03-26T17:17:56.616625Z",
     "shell.execute_reply.started": "2023-03-26T17:17:56.561568Z"
    },
    "papermill": {
     "duration": 0.009222,
     "end_time": "2023-03-27T21:14:13.041156",
     "exception": false,
     "start_time": "2023-03-27T21:14:13.031934",
     "status": "completed"
    },
    "tags": []
   },
   "source": [
    "# Based on the results of the initial stats, invesitgate target survival rate as a function of input variables\n"
   ]
  },
  {
   "cell_type": "markdown",
   "id": "e655df20",
   "metadata": {
    "papermill": {
     "duration": 0.008957,
     "end_time": "2023-03-27T21:14:13.059470",
     "exception": false,
     "start_time": "2023-03-27T21:14:13.050513",
     "status": "completed"
    },
    "tags": []
   },
   "source": []
  },
  {
   "cell_type": "code",
   "execution_count": 3,
   "id": "7eb8f100",
   "metadata": {
    "execution": {
     "iopub.execute_input": "2023-03-27T21:14:13.080759Z",
     "iopub.status.busy": "2023-03-27T21:14:13.080329Z",
     "iopub.status.idle": "2023-03-27T21:14:13.469077Z",
     "shell.execute_reply": "2023-03-27T21:14:13.467756Z"
    },
    "papermill": {
     "duration": 0.403043,
     "end_time": "2023-03-27T21:14:13.471924",
     "exception": false,
     "start_time": "2023-03-27T21:14:13.068881",
     "status": "completed"
    },
    "tags": []
   },
   "outputs": [
    {
     "data": {
      "text/plain": [
       "<AxesSubplot:>"
      ]
     },
     "execution_count": 3,
     "metadata": {},
     "output_type": "execute_result"
    },
    {
     "data": {
      "image/png": "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\n",
      "text/plain": [
       "<Figure size 640x480 with 2 Axes>"
      ]
     },
     "metadata": {},
     "output_type": "display_data"
    }
   ],
   "source": [
    "\"Invesitgate relaionships between variables\"\n",
    "#calculate correlation array\n",
    "corr = train_data.corr()\n",
    "\n",
    "# plot the heatmap\n",
    "sns.heatmap(corr, \n",
    "        xticklabels=corr.columns,\n",
    "        yticklabels=corr.columns)\n",
    "\n"
   ]
  },
  {
   "cell_type": "markdown",
   "id": "76ed9d1d",
   "metadata": {
    "papermill": {
     "duration": 0.009764,
     "end_time": "2023-03-27T21:14:13.492120",
     "exception": false,
     "start_time": "2023-03-27T21:14:13.482356",
     "status": "completed"
    },
    "tags": []
   },
   "source": []
  },
  {
   "cell_type": "markdown",
   "id": "0597f12e",
   "metadata": {
    "papermill": {
     "duration": 0.009835,
     "end_time": "2023-03-27T21:14:13.512187",
     "exception": false,
     "start_time": "2023-03-27T21:14:13.502352",
     "status": "completed"
    },
    "tags": []
   },
   "source": [
    "The correlations suggests some correlation between siblings and parents, which makes sense as families often come together.\n",
    "\n",
    "\n",
    "It also suggests correlations between survival rate on Fare, Passenger class. Interestingly suggests minimal correlation between age and survival despite what the film suggests \n",
    "\n"
   ]
  },
  {
   "cell_type": "markdown",
   "id": "e4ff0ca6",
   "metadata": {
    "papermill": {
     "duration": 0.009917,
     "end_time": "2023-03-27T21:14:13.533363",
     "exception": false,
     "start_time": "2023-03-27T21:14:13.523446",
     "status": "completed"
    },
    "tags": []
   },
   "source": []
  },
  {
   "cell_type": "code",
   "execution_count": 4,
   "id": "b55071c2",
   "metadata": {
    "execution": {
     "iopub.execute_input": "2023-03-27T21:14:13.555881Z",
     "iopub.status.busy": "2023-03-27T21:14:13.555377Z",
     "iopub.status.idle": "2023-03-27T21:14:15.455459Z",
     "shell.execute_reply": "2023-03-27T21:14:15.454079Z"
    },
    "papermill": {
     "duration": 1.917649,
     "end_time": "2023-03-27T21:14:15.461096",
     "exception": false,
     "start_time": "2023-03-27T21:14:13.543447",
     "status": "completed"
    },
    "tags": []
   },
   "outputs": [
    {
     "data": {
      "text/plain": [
       "<AxesSubplot:xlabel='Fare', ylabel='Percent'>"
      ]
     },
     "execution_count": 4,
     "metadata": {},
     "output_type": "execute_result"
    },
    {
     "data": {
      "image/png": "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\n",
      "text/plain": [
       "<Figure size 640x480 with 1 Axes>"
      ]
     },
     "metadata": {},
     "output_type": "display_data"
    },
    {
     "data": {
      "text/plain": [
       "<Figure size 640x480 with 0 Axes>"
      ]
     },
     "metadata": {},
     "output_type": "display_data"
    },
    {
     "data": {
      "image/png": "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\n",
      "text/plain": [
       "<Figure size 640x480 with 2 Axes>"
      ]
     },
     "metadata": {},
     "output_type": "display_data"
    },
    {
     "data": {
      "image/png": "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\n",
      "text/plain": [
       "<Figure size 640x480 with 1 Axes>"
      ]
     },
     "metadata": {},
     "output_type": "display_data"
    },
    {
     "data": {
      "image/png": "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\n",
      "text/plain": [
       "<Figure size 640x480 with 1 Axes>"
      ]
     },
     "metadata": {},
     "output_type": "display_data"
    }
   ],
   "source": [
    "\n",
    "\n",
    "\n",
    "plt.figure(1)\n",
    "sns.boxplot(data=train_data, x=\"Age\", y=\"Sex\", hue=\"Survived\")\n",
    "\n",
    "plt.figure(2)\n",
    "fig, axes = plt.subplots(1, 2)\n",
    "sns.histplot(ax=axes[0], x = train_data['Pclass'], hue=train_data['Survived'], multiple=\"dodge\", \n",
    "                  stat = 'percent',common_norm=False)\n",
    "\n",
    "\n",
    "ax = sns.histplot(ax=axes[1],x = train_data['Sex'], hue=train_data['Survived'], multiple=\"dodge\", \n",
    "                  stat = 'percent',common_norm=False)\n",
    "plt.figure(5)\n",
    "sns.histplot(x = train_data['Embarked'], hue=train_data['Survived'], multiple=\"dodge\", \n",
    "                  stat = 'percent',common_norm=False)\n",
    "\n",
    "plt.figure(4)\n",
    "sns.histplot(x = train_data['Fare'],hue=train_data['Survived'], multiple=\"dodge\", \n",
    "                  stat = 'percent',common_norm=False)\n",
    "\n",
    "\n",
    "    \n"
   ]
  },
  {
   "cell_type": "markdown",
   "id": "266063de",
   "metadata": {
    "papermill": {
     "duration": 0.012148,
     "end_time": "2023-03-27T21:14:15.485567",
     "exception": false,
     "start_time": "2023-03-27T21:14:15.473419",
     "status": "completed"
    },
    "tags": []
   },
   "source": [
    "We've investigated the spread of age, which is reasonable enough to impute the missing data\n",
    "\n",
    "The correlations between survival and passenger class plus Fare is confirmed\n",
    "\n",
    "\n",
    "We have also investigated how the cateogrical variables we will use compare with survival; Embarkment location has almost no correlation, Sex however does"
   ]
  },
  {
   "cell_type": "code",
   "execution_count": 5,
   "id": "6180d37c",
   "metadata": {
    "execution": {
     "iopub.execute_input": "2023-03-27T21:14:15.513038Z",
     "iopub.status.busy": "2023-03-27T21:14:15.511912Z",
     "iopub.status.idle": "2023-03-27T21:14:15.563865Z",
     "shell.execute_reply": "2023-03-27T21:14:15.562357Z"
    },
    "papermill": {
     "duration": 0.070168,
     "end_time": "2023-03-27T21:14:15.567869",
     "exception": false,
     "start_time": "2023-03-27T21:14:15.497701",
     "status": "completed"
    },
    "tags": []
   },
   "outputs": [],
   "source": [
    "#Create pipline and transformers for data\n",
    "\n",
    "features_num = [\n",
    "      \"Age\", \"SibSp\", \"Parch\", \"Fare\" \n",
    "]\n",
    "\n",
    "features_cat = [\"Embarked\",  \"Pclass\"\n",
    "    \n",
    "]\n",
    "features_ordinal = [\"Sex\"\n",
    "    \n",
    "]\n",
    "\n",
    "\n",
    "transformer_num = make_pipeline(\n",
    "    SimpleImputer(strategy=\"median\", fill_value=\"NA\"),\n",
    "    StandardScaler(),\n",
    ")\n",
    "transformer_cat = make_pipeline(\n",
    "    SimpleImputer(strategy=\"most_frequent\", fill_value=\"NA\"),\n",
    "    OneHotEncoder(handle_unknown='ignore'),\n",
    ")\n",
    "\n",
    "transformer_ordinal = make_pipeline(\n",
    "    SimpleImputer(strategy=\"most_frequent\", fill_value=\"NA\"),\n",
    "    OrdinalEncoder(),\n",
    ")\n",
    "\n",
    "preprocessor = make_column_transformer(\n",
    "    (transformer_num, features_num),\n",
    "    (transformer_cat, features_cat),\n",
    "    (transformer_ordinal, features_ordinal),\n",
    ")\n",
    "\n",
    "\n",
    "X_train, X_valid, y_train, y_valid = \\\n",
    "    train_test_split(X, y, stratify=y, train_size=0.75)\n",
    "\n",
    "\n",
    "#Apply preprocessor on data\n",
    "X_train = preprocessor.fit_transform(X_train)\n",
    "X_valid = preprocessor.transform(X_valid)\n",
    "input_shape = [X_train.shape[1]]\n",
    "\n",
    "\n"
   ]
  },
  {
   "cell_type": "markdown",
   "id": "a8b318c4",
   "metadata": {
    "papermill": {
     "duration": 0.011713,
     "end_time": "2023-03-27T21:14:15.596837",
     "exception": false,
     "start_time": "2023-03-27T21:14:15.585124",
     "status": "completed"
    },
    "tags": []
   },
   "source": []
  },
  {
   "cell_type": "markdown",
   "id": "c54bdcde",
   "metadata": {
    "papermill": {
     "duration": 0.011546,
     "end_time": "2023-03-27T21:14:15.620243",
     "exception": false,
     "start_time": "2023-03-27T21:14:15.608697",
     "status": "completed"
    },
    "tags": []
   },
   "source": []
  },
  {
   "cell_type": "markdown",
   "id": "4239ffcc",
   "metadata": {
    "papermill": {
     "duration": 0.011829,
     "end_time": "2023-03-27T21:14:15.643948",
     "exception": false,
     "start_time": "2023-03-27T21:14:15.632119",
     "status": "completed"
    },
    "tags": []
   },
   "source": []
  },
  {
   "cell_type": "code",
   "execution_count": 6,
   "id": "10092903",
   "metadata": {
    "execution": {
     "iopub.execute_input": "2023-03-27T21:14:15.675017Z",
     "iopub.status.busy": "2023-03-27T21:14:15.674390Z",
     "iopub.status.idle": "2023-03-27T21:43:08.356163Z",
     "shell.execute_reply": "2023-03-27T21:43:08.353630Z"
    },
    "papermill": {
     "duration": 1732.698999,
     "end_time": "2023-03-27T21:43:08.359077",
     "exception": false,
     "start_time": "2023-03-27T21:14:15.660078",
     "status": "completed"
    },
    "tags": []
   },
   "outputs": [
    {
     "name": "stdout",
     "output_type": "stream",
     "text": [
      "Fitting 5 folds for each of 24 candidates, totalling 120 fits\n",
      "[CV] END ...........dr=0.1, epochs=200, lr=0.1, lyrs=[16, 8]; total time=  10.3s\n",
      "[CV] END ...........dr=0.1, epochs=200, lr=0.1, lyrs=[16, 8]; total time=  12.2s\n",
      "[CV] END ...........dr=0.1, epochs=200, lr=0.1, lyrs=[16, 8]; total time=   9.9s\n",
      "[CV] END ...........dr=0.1, epochs=200, lr=0.1, lyrs=[16, 8]; total time=   9.6s\n",
      "[CV] END ...........dr=0.1, epochs=200, lr=0.1, lyrs=[16, 8]; total time=   9.5s\n",
      "[CV] END ...............dr=0.1, epochs=200, lr=0.1, lyrs=[8]; total time=   7.0s\n",
      "[CV] END ...............dr=0.1, epochs=200, lr=0.1, lyrs=[8]; total time=   7.4s\n",
      "[CV] END ...............dr=0.1, epochs=200, lr=0.1, lyrs=[8]; total time=   7.5s\n",
      "[CV] END ...............dr=0.1, epochs=200, lr=0.1, lyrs=[8]; total time=   7.4s\n",
      "[CV] END ...............dr=0.1, epochs=200, lr=0.1, lyrs=[8]; total time=   7.2s\n",
      "[CV] END ..........dr=0.1, epochs=200, lr=0.01, lyrs=[16, 8]; total time=  10.0s\n",
      "[CV] END ..........dr=0.1, epochs=200, lr=0.01, lyrs=[16, 8]; total time=  10.4s\n",
      "[CV] END ..........dr=0.1, epochs=200, lr=0.01, lyrs=[16, 8]; total time=  10.2s\n",
      "[CV] END ..........dr=0.1, epochs=200, lr=0.01, lyrs=[16, 8]; total time=  11.2s\n",
      "[CV] END ..........dr=0.1, epochs=200, lr=0.01, lyrs=[16, 8]; total time=  10.1s\n",
      "[CV] END ..............dr=0.1, epochs=200, lr=0.01, lyrs=[8]; total time=   7.2s\n",
      "[CV] END ..............dr=0.1, epochs=200, lr=0.01, lyrs=[8]; total time=  11.3s\n",
      "[CV] END ..............dr=0.1, epochs=200, lr=0.01, lyrs=[8]; total time=  11.3s\n",
      "[CV] END ..............dr=0.1, epochs=200, lr=0.01, lyrs=[8]; total time=   7.4s\n",
      "[CV] END ..............dr=0.1, epochs=200, lr=0.01, lyrs=[8]; total time=  11.3s\n",
      "[CV] END ...........dr=0.1, epochs=400, lr=0.1, lyrs=[16, 8]; total time=  22.6s\n",
      "[CV] END ...........dr=0.1, epochs=400, lr=0.1, lyrs=[16, 8]; total time=  19.7s\n",
      "[CV] END ...........dr=0.1, epochs=400, lr=0.1, lyrs=[16, 8]; total time=  22.6s\n",
      "[CV] END ...........dr=0.1, epochs=400, lr=0.1, lyrs=[16, 8]; total time=  21.0s\n",
      "[CV] END ...........dr=0.1, epochs=400, lr=0.1, lyrs=[16, 8]; total time=  20.8s\n",
      "[CV] END ...............dr=0.1, epochs=400, lr=0.1, lyrs=[8]; total time=  15.0s\n",
      "[CV] END ...............dr=0.1, epochs=400, lr=0.1, lyrs=[8]; total time=  15.1s\n",
      "[CV] END ...............dr=0.1, epochs=400, lr=0.1, lyrs=[8]; total time=  21.6s\n",
      "[CV] END ...............dr=0.1, epochs=400, lr=0.1, lyrs=[8]; total time=  15.3s\n",
      "[CV] END ...............dr=0.1, epochs=400, lr=0.1, lyrs=[8]; total time=  14.3s\n",
      "[CV] END ..........dr=0.1, epochs=400, lr=0.01, lyrs=[16, 8]; total time=  22.6s\n",
      "[CV] END ..........dr=0.1, epochs=400, lr=0.01, lyrs=[16, 8]; total time=  18.7s\n",
      "[CV] END ..........dr=0.1, epochs=400, lr=0.01, lyrs=[16, 8]; total time=  18.1s\n",
      "[CV] END ..........dr=0.1, epochs=400, lr=0.01, lyrs=[16, 8]; total time=  22.5s\n",
      "[CV] END ..........dr=0.1, epochs=400, lr=0.01, lyrs=[16, 8]; total time=  20.5s\n",
      "[CV] END ..............dr=0.1, epochs=400, lr=0.01, lyrs=[8]; total time=  21.7s\n",
      "[CV] END ..............dr=0.1, epochs=400, lr=0.01, lyrs=[8]; total time=  13.4s\n",
      "[CV] END ..............dr=0.1, epochs=400, lr=0.01, lyrs=[8]; total time=  13.2s\n",
      "[CV] END ..............dr=0.1, epochs=400, lr=0.01, lyrs=[8]; total time=  21.6s\n",
      "[CV] END ..............dr=0.1, epochs=400, lr=0.01, lyrs=[8]; total time=  13.5s\n",
      "[CV] END ...........dr=0.2, epochs=200, lr=0.1, lyrs=[16, 8]; total time=   9.9s\n",
      "[CV] END ...........dr=0.2, epochs=200, lr=0.1, lyrs=[16, 8]; total time=  10.0s\n",
      "[CV] END ...........dr=0.2, epochs=200, lr=0.1, lyrs=[16, 8]; total time=  10.0s\n",
      "[CV] END ...........dr=0.2, epochs=200, lr=0.1, lyrs=[16, 8]; total time=  10.0s\n",
      "[CV] END ...........dr=0.2, epochs=200, lr=0.1, lyrs=[16, 8]; total time=  12.3s\n",
      "[CV] END ...............dr=0.2, epochs=200, lr=0.1, lyrs=[8]; total time=   7.7s\n",
      "[CV] END ...............dr=0.2, epochs=200, lr=0.1, lyrs=[8]; total time=  12.4s\n",
      "[CV] END ...............dr=0.2, epochs=200, lr=0.1, lyrs=[8]; total time=   8.6s\n",
      "[CV] END ...............dr=0.2, epochs=200, lr=0.1, lyrs=[8]; total time=   7.9s\n",
      "[CV] END ...............dr=0.2, epochs=200, lr=0.1, lyrs=[8]; total time=   8.4s\n",
      "[CV] END ..........dr=0.2, epochs=200, lr=0.01, lyrs=[16, 8]; total time=  11.4s\n",
      "[CV] END ..........dr=0.2, epochs=200, lr=0.01, lyrs=[16, 8]; total time=  12.3s\n",
      "[CV] END ..........dr=0.2, epochs=200, lr=0.01, lyrs=[16, 8]; total time=  12.4s\n",
      "[CV] END ..........dr=0.2, epochs=200, lr=0.01, lyrs=[16, 8]; total time=  11.3s\n",
      "[CV] END ..........dr=0.2, epochs=200, lr=0.01, lyrs=[16, 8]; total time=  11.2s\n",
      "[CV] END ..............dr=0.2, epochs=200, lr=0.01, lyrs=[8]; total time=   7.8s\n",
      "[CV] END ..............dr=0.2, epochs=200, lr=0.01, lyrs=[8]; total time=   7.8s\n",
      "[CV] END ..............dr=0.2, epochs=200, lr=0.01, lyrs=[8]; total time=   7.6s\n",
      "[CV] END ..............dr=0.2, epochs=200, lr=0.01, lyrs=[8]; total time=   8.8s\n",
      "[CV] END ..............dr=0.2, epochs=200, lr=0.01, lyrs=[8]; total time=   8.1s\n",
      "[CV] END ...........dr=0.2, epochs=400, lr=0.1, lyrs=[16, 8]; total time=  22.8s\n",
      "[CV] END ...........dr=0.2, epochs=400, lr=0.1, lyrs=[16, 8]; total time=  19.9s\n",
      "[CV] END ...........dr=0.2, epochs=400, lr=0.1, lyrs=[16, 8]; total time=  22.5s\n",
      "[CV] END ...........dr=0.2, epochs=400, lr=0.1, lyrs=[16, 8]; total time=  19.3s\n",
      "[CV] END ...........dr=0.2, epochs=400, lr=0.1, lyrs=[16, 8]; total time=  18.5s\n",
      "[CV] END ...............dr=0.2, epochs=400, lr=0.1, lyrs=[8]; total time=  14.2s\n",
      "[CV] END ...............dr=0.2, epochs=400, lr=0.1, lyrs=[8]; total time=  14.7s\n",
      "[CV] END ...............dr=0.2, epochs=400, lr=0.1, lyrs=[8]; total time=  14.5s\n",
      "[CV] END ...............dr=0.2, epochs=400, lr=0.1, lyrs=[8]; total time=  14.4s\n",
      "[CV] END ...............dr=0.2, epochs=400, lr=0.1, lyrs=[8]; total time=  14.2s\n",
      "[CV] END ..........dr=0.2, epochs=400, lr=0.01, lyrs=[16, 8]; total time=  22.3s\n",
      "[CV] END ..........dr=0.2, epochs=400, lr=0.01, lyrs=[16, 8]; total time=  22.9s\n",
      "[CV] END ..........dr=0.2, epochs=400, lr=0.01, lyrs=[16, 8]; total time=  22.6s\n",
      "[CV] END ..........dr=0.2, epochs=400, lr=0.01, lyrs=[16, 8]; total time=  22.6s\n",
      "[CV] END ..........dr=0.2, epochs=400, lr=0.01, lyrs=[16, 8]; total time=  22.5s\n",
      "[CV] END ..............dr=0.2, epochs=400, lr=0.01, lyrs=[8]; total time=  21.6s\n",
      "[CV] END ..............dr=0.2, epochs=400, lr=0.01, lyrs=[8]; total time=  14.3s\n",
      "[CV] END ..............dr=0.2, epochs=400, lr=0.01, lyrs=[8]; total time=  13.6s\n",
      "[CV] END ..............dr=0.2, epochs=400, lr=0.01, lyrs=[8]; total time=  21.6s\n",
      "[CV] END ..............dr=0.2, epochs=400, lr=0.01, lyrs=[8]; total time=  21.6s\n",
      "[CV] END ...........dr=0.5, epochs=200, lr=0.1, lyrs=[16, 8]; total time=  10.4s\n",
      "[CV] END ...........dr=0.5, epochs=200, lr=0.1, lyrs=[16, 8]; total time=  12.3s\n",
      "[CV] END ...........dr=0.5, epochs=200, lr=0.1, lyrs=[16, 8]; total time=  10.8s\n",
      "[CV] END ...........dr=0.5, epochs=200, lr=0.1, lyrs=[16, 8]; total time=  12.5s\n",
      "[CV] END ...........dr=0.5, epochs=200, lr=0.1, lyrs=[16, 8]; total time=  10.6s\n",
      "[CV] END ...............dr=0.5, epochs=200, lr=0.1, lyrs=[8]; total time=   7.6s\n",
      "[CV] END ...............dr=0.5, epochs=200, lr=0.1, lyrs=[8]; total time=  11.3s\n",
      "[CV] END ...............dr=0.5, epochs=200, lr=0.1, lyrs=[8]; total time=  11.3s\n",
      "[CV] END ...............dr=0.5, epochs=200, lr=0.1, lyrs=[8]; total time=   7.2s\n",
      "[CV] END ...............dr=0.5, epochs=200, lr=0.1, lyrs=[8]; total time=   7.2s\n",
      "[CV] END ..........dr=0.5, epochs=200, lr=0.01, lyrs=[16, 8]; total time=  10.3s\n",
      "[CV] END ..........dr=0.5, epochs=200, lr=0.01, lyrs=[16, 8]; total time=  12.3s\n",
      "[CV] END ..........dr=0.5, epochs=200, lr=0.01, lyrs=[16, 8]; total time=  12.4s\n",
      "[CV] END ..........dr=0.5, epochs=200, lr=0.01, lyrs=[16, 8]; total time=  11.8s\n",
      "[CV] END ..........dr=0.5, epochs=200, lr=0.01, lyrs=[16, 8]; total time=  12.6s\n",
      "[CV] END ..............dr=0.5, epochs=200, lr=0.01, lyrs=[8]; total time=   8.0s\n",
      "[CV] END ..............dr=0.5, epochs=200, lr=0.01, lyrs=[8]; total time=  11.4s\n",
      "[CV] END ..............dr=0.5, epochs=200, lr=0.01, lyrs=[8]; total time=  11.4s\n",
      "[CV] END ..............dr=0.5, epochs=200, lr=0.01, lyrs=[8]; total time=   8.0s\n",
      "[CV] END ..............dr=0.5, epochs=200, lr=0.01, lyrs=[8]; total time=   7.8s\n",
      "[CV] END ...........dr=0.5, epochs=400, lr=0.1, lyrs=[16, 8]; total time=  19.2s\n",
      "[CV] END ...........dr=0.5, epochs=400, lr=0.1, lyrs=[16, 8]; total time=  19.2s\n",
      "[CV] END ...........dr=0.5, epochs=400, lr=0.1, lyrs=[16, 8]; total time=  18.7s\n",
      "[CV] END ...........dr=0.5, epochs=400, lr=0.1, lyrs=[16, 8]; total time=  24.2s\n",
      "[CV] END ...........dr=0.5, epochs=400, lr=0.1, lyrs=[16, 8]; total time=  20.6s\n",
      "[CV] END ...............dr=0.5, epochs=400, lr=0.1, lyrs=[8]; total time=  14.5s\n",
      "[CV] END ...............dr=0.5, epochs=400, lr=0.1, lyrs=[8]; total time=  21.7s\n",
      "[CV] END ...............dr=0.5, epochs=400, lr=0.1, lyrs=[8]; total time=  13.8s\n",
      "[CV] END ...............dr=0.5, epochs=400, lr=0.1, lyrs=[8]; total time=  14.0s\n",
      "[CV] END ...............dr=0.5, epochs=400, lr=0.1, lyrs=[8]; total time=  14.2s\n",
      "[CV] END ..........dr=0.5, epochs=400, lr=0.01, lyrs=[16, 8]; total time=  19.0s\n",
      "[CV] END ..........dr=0.5, epochs=400, lr=0.01, lyrs=[16, 8]; total time=  19.6s\n",
      "[CV] END ..........dr=0.5, epochs=400, lr=0.01, lyrs=[16, 8]; total time=  18.8s\n",
      "[CV] END ..........dr=0.5, epochs=400, lr=0.01, lyrs=[16, 8]; total time=  18.4s\n",
      "[CV] END ..........dr=0.5, epochs=400, lr=0.01, lyrs=[16, 8]; total time=  20.0s\n",
      "[CV] END ..............dr=0.5, epochs=400, lr=0.01, lyrs=[8]; total time=  22.0s\n",
      "[CV] END ..............dr=0.5, epochs=400, lr=0.01, lyrs=[8]; total time=  14.6s\n",
      "[CV] END ..............dr=0.5, epochs=400, lr=0.01, lyrs=[8]; total time=  21.7s\n",
      "[CV] END ..............dr=0.5, epochs=400, lr=0.01, lyrs=[8]; total time=  21.7s\n",
      "[CV] END ..............dr=0.5, epochs=400, lr=0.01, lyrs=[8]; total time=  21.7s\n",
      "Best: 0.827831 using {'dr': 0.5, 'epochs': 200, 'lr': 0.1, 'lyrs': [8]}\n"
     ]
    }
   ],
   "source": [
    "# Call model and grid search to optimise parameters\n",
    "\n",
    "inputs = ([[16, 8], [8]], [0.1, 0.2, 0.5], [0.1, 0.01], [200, 400])\n",
    "model = KerasClassifier(model=create_model, \n",
    "                        epochs=50, batch_size=32, verbose=0, dr=0.1,lr=0.1, lyrs=[16, 8])\n",
    "\n",
    "\n",
    "\n",
    "    \n",
    "\n",
    "grid_result = Network_optimisation(model, inputs)\n",
    "\n",
    "print(\"Best: %f using %s\" % (grid_result.best_score_, grid_result.best_params_))"
   ]
  },
  {
   "cell_type": "markdown",
   "id": "4caed2c5",
   "metadata": {
    "papermill": {
     "duration": 0.018882,
     "end_time": "2023-03-27T21:43:08.397521",
     "exception": false,
     "start_time": "2023-03-27T21:43:08.378639",
     "status": "completed"
    },
    "tags": []
   },
   "source": []
  },
  {
   "cell_type": "code",
   "execution_count": null,
   "id": "15d5b21e",
   "metadata": {
    "execution": {
     "iopub.execute_input": "2023-03-26T07:49:31.762979Z",
     "iopub.status.busy": "2023-03-26T07:49:31.762645Z",
     "iopub.status.idle": "2023-03-26T07:49:32.259950Z",
     "shell.execute_reply": "2023-03-26T07:49:32.258290Z",
     "shell.execute_reply.started": "2023-03-26T07:49:31.762950Z"
    },
    "papermill": {
     "duration": 0.018831,
     "end_time": "2023-03-27T21:43:08.435617",
     "exception": false,
     "start_time": "2023-03-27T21:43:08.416786",
     "status": "completed"
    },
    "tags": []
   },
   "outputs": [],
   "source": []
  },
  {
   "cell_type": "code",
   "execution_count": 7,
   "id": "b0d0acb9",
   "metadata": {
    "execution": {
     "iopub.execute_input": "2023-03-27T21:43:08.476947Z",
     "iopub.status.busy": "2023-03-27T21:43:08.476489Z",
     "iopub.status.idle": "2023-03-27T21:43:15.522050Z",
     "shell.execute_reply": "2023-03-27T21:43:15.520533Z"
    },
    "papermill": {
     "duration": 7.070111,
     "end_time": "2023-03-27T21:43:15.525136",
     "exception": false,
     "start_time": "2023-03-27T21:43:08.455025",
     "status": "completed"
    },
    "tags": []
   },
   "outputs": [
    {
     "name": "stdout",
     "output_type": "stream",
     "text": [
      "Epoch 1/200\n",
      "21/21 [==============================] - 1s 16ms/step - loss: 0.7364 - binary_accuracy: 0.4626 - val_loss: 0.7478 - val_binary_accuracy: 0.4036\n",
      "Epoch 2/200\n",
      "21/21 [==============================] - 0s 4ms/step - loss: 0.7057 - binary_accuracy: 0.5180 - val_loss: 0.7192 - val_binary_accuracy: 0.4215\n",
      "Epoch 3/200\n",
      "21/21 [==============================] - 0s 4ms/step - loss: 0.6825 - binary_accuracy: 0.5659 - val_loss: 0.6938 - val_binary_accuracy: 0.5112\n",
      "Epoch 4/200\n",
      "21/21 [==============================] - 0s 4ms/step - loss: 0.6579 - binary_accuracy: 0.6257 - val_loss: 0.6709 - val_binary_accuracy: 0.6278\n",
      "Epoch 5/200\n",
      "21/21 [==============================] - 0s 4ms/step - loss: 0.6353 - binary_accuracy: 0.6707 - val_loss: 0.6490 - val_binary_accuracy: 0.7220\n",
      "Epoch 6/200\n",
      "21/21 [==============================] - 0s 4ms/step - loss: 0.6114 - binary_accuracy: 0.7545 - val_loss: 0.6278 - val_binary_accuracy: 0.7803\n",
      "Epoch 7/200\n",
      "21/21 [==============================] - 0s 4ms/step - loss: 0.5944 - binary_accuracy: 0.7485 - val_loss: 0.6039 - val_binary_accuracy: 0.7848\n",
      "Epoch 8/200\n",
      "21/21 [==============================] - 0s 4ms/step - loss: 0.5710 - binary_accuracy: 0.7754 - val_loss: 0.5816 - val_binary_accuracy: 0.7982\n",
      "Epoch 9/200\n",
      "21/21 [==============================] - 0s 4ms/step - loss: 0.5568 - binary_accuracy: 0.7635 - val_loss: 0.5602 - val_binary_accuracy: 0.7937\n",
      "Epoch 10/200\n",
      "21/21 [==============================] - 0s 4ms/step - loss: 0.5407 - binary_accuracy: 0.7889 - val_loss: 0.5412 - val_binary_accuracy: 0.8027\n",
      "Epoch 11/200\n",
      "21/21 [==============================] - 0s 4ms/step - loss: 0.5249 - binary_accuracy: 0.7829 - val_loss: 0.5248 - val_binary_accuracy: 0.8117\n",
      "Epoch 12/200\n",
      "21/21 [==============================] - 0s 4ms/step - loss: 0.5118 - binary_accuracy: 0.7799 - val_loss: 0.5105 - val_binary_accuracy: 0.8072\n",
      "Epoch 13/200\n",
      "21/21 [==============================] - 0s 5ms/step - loss: 0.5064 - binary_accuracy: 0.7904 - val_loss: 0.4984 - val_binary_accuracy: 0.8072\n",
      "Epoch 14/200\n",
      "21/21 [==============================] - 0s 4ms/step - loss: 0.4927 - binary_accuracy: 0.7859 - val_loss: 0.4874 - val_binary_accuracy: 0.7982\n",
      "Epoch 15/200\n",
      "21/21 [==============================] - 0s 5ms/step - loss: 0.4888 - binary_accuracy: 0.7889 - val_loss: 0.4781 - val_binary_accuracy: 0.7937\n",
      "Epoch 16/200\n",
      "21/21 [==============================] - 0s 4ms/step - loss: 0.4807 - binary_accuracy: 0.7979 - val_loss: 0.4695 - val_binary_accuracy: 0.7937\n",
      "Epoch 17/200\n",
      "21/21 [==============================] - 0s 5ms/step - loss: 0.4731 - binary_accuracy: 0.7949 - val_loss: 0.4619 - val_binary_accuracy: 0.7982\n",
      "Epoch 18/200\n",
      "21/21 [==============================] - 0s 4ms/step - loss: 0.4710 - binary_accuracy: 0.8039 - val_loss: 0.4562 - val_binary_accuracy: 0.7937\n",
      "Epoch 19/200\n",
      "21/21 [==============================] - 0s 4ms/step - loss: 0.4523 - binary_accuracy: 0.8129 - val_loss: 0.4506 - val_binary_accuracy: 0.7937\n",
      "Epoch 20/200\n",
      "21/21 [==============================] - 0s 5ms/step - loss: 0.4589 - binary_accuracy: 0.8144 - val_loss: 0.4465 - val_binary_accuracy: 0.7892\n",
      "Epoch 21/200\n",
      "21/21 [==============================] - 0s 4ms/step - loss: 0.4545 - binary_accuracy: 0.8039 - val_loss: 0.4431 - val_binary_accuracy: 0.7937\n",
      "Epoch 22/200\n",
      "21/21 [==============================] - 0s 4ms/step - loss: 0.4538 - binary_accuracy: 0.8099 - val_loss: 0.4403 - val_binary_accuracy: 0.7937\n",
      "Epoch 23/200\n",
      "21/21 [==============================] - 0s 4ms/step - loss: 0.4505 - binary_accuracy: 0.8174 - val_loss: 0.4383 - val_binary_accuracy: 0.7982\n",
      "Epoch 24/200\n",
      "21/21 [==============================] - 0s 5ms/step - loss: 0.4673 - binary_accuracy: 0.7979 - val_loss: 0.4370 - val_binary_accuracy: 0.8027\n",
      "Epoch 25/200\n",
      "21/21 [==============================] - 0s 5ms/step - loss: 0.4432 - binary_accuracy: 0.8084 - val_loss: 0.4355 - val_binary_accuracy: 0.7937\n",
      "Epoch 26/200\n",
      "21/21 [==============================] - 0s 5ms/step - loss: 0.4516 - binary_accuracy: 0.8054 - val_loss: 0.4345 - val_binary_accuracy: 0.7982\n",
      "Epoch 27/200\n",
      "21/21 [==============================] - 0s 4ms/step - loss: 0.4496 - binary_accuracy: 0.7964 - val_loss: 0.4338 - val_binary_accuracy: 0.7892\n",
      "Epoch 28/200\n",
      "21/21 [==============================] - 0s 4ms/step - loss: 0.4473 - binary_accuracy: 0.8009 - val_loss: 0.4324 - val_binary_accuracy: 0.7848\n",
      "Epoch 29/200\n",
      "21/21 [==============================] - 0s 4ms/step - loss: 0.4379 - binary_accuracy: 0.8174 - val_loss: 0.4317 - val_binary_accuracy: 0.7848\n",
      "Epoch 30/200\n",
      "21/21 [==============================] - 0s 4ms/step - loss: 0.4442 - binary_accuracy: 0.8114 - val_loss: 0.4309 - val_binary_accuracy: 0.7848\n",
      "Epoch 31/200\n",
      "21/21 [==============================] - 0s 4ms/step - loss: 0.4443 - binary_accuracy: 0.8039 - val_loss: 0.4304 - val_binary_accuracy: 0.7848\n",
      "Epoch 32/200\n",
      "21/21 [==============================] - 0s 4ms/step - loss: 0.4374 - binary_accuracy: 0.8159 - val_loss: 0.4293 - val_binary_accuracy: 0.7758\n",
      "Epoch 33/200\n",
      "21/21 [==============================] - 0s 4ms/step - loss: 0.4298 - binary_accuracy: 0.8144 - val_loss: 0.4281 - val_binary_accuracy: 0.7803\n",
      "Epoch 34/200\n",
      "21/21 [==============================] - 0s 5ms/step - loss: 0.4505 - binary_accuracy: 0.7949 - val_loss: 0.4278 - val_binary_accuracy: 0.7803\n",
      "Epoch 35/200\n",
      "21/21 [==============================] - 0s 4ms/step - loss: 0.4303 - binary_accuracy: 0.8099 - val_loss: 0.4270 - val_binary_accuracy: 0.7803\n",
      "Epoch 36/200\n",
      "21/21 [==============================] - 0s 4ms/step - loss: 0.4304 - binary_accuracy: 0.8189 - val_loss: 0.4266 - val_binary_accuracy: 0.7803\n",
      "Epoch 37/200\n",
      "21/21 [==============================] - 0s 4ms/step - loss: 0.4517 - binary_accuracy: 0.7934 - val_loss: 0.4265 - val_binary_accuracy: 0.7803\n",
      "Epoch 38/200\n",
      "21/21 [==============================] - 0s 4ms/step - loss: 0.4469 - binary_accuracy: 0.8114 - val_loss: 0.4265 - val_binary_accuracy: 0.7848\n",
      "Epoch 39/200\n",
      "21/21 [==============================] - 0s 4ms/step - loss: 0.4257 - binary_accuracy: 0.8159 - val_loss: 0.4261 - val_binary_accuracy: 0.7803\n",
      "Epoch 40/200\n",
      "21/21 [==============================] - 0s 4ms/step - loss: 0.4361 - binary_accuracy: 0.8099 - val_loss: 0.4254 - val_binary_accuracy: 0.7803\n",
      "Epoch 41/200\n",
      "21/21 [==============================] - 0s 4ms/step - loss: 0.4464 - binary_accuracy: 0.7964 - val_loss: 0.4250 - val_binary_accuracy: 0.7803\n",
      "Epoch 42/200\n",
      "21/21 [==============================] - 0s 4ms/step - loss: 0.4396 - binary_accuracy: 0.8009 - val_loss: 0.4250 - val_binary_accuracy: 0.7803\n",
      "Epoch 43/200\n",
      "21/21 [==============================] - 0s 5ms/step - loss: 0.4433 - binary_accuracy: 0.8039 - val_loss: 0.4247 - val_binary_accuracy: 0.7803\n",
      "Epoch 44/200\n",
      "21/21 [==============================] - 0s 5ms/step - loss: 0.4283 - binary_accuracy: 0.8099 - val_loss: 0.4243 - val_binary_accuracy: 0.7803\n",
      "Epoch 45/200\n",
      "21/21 [==============================] - 0s 4ms/step - loss: 0.4384 - binary_accuracy: 0.8174 - val_loss: 0.4243 - val_binary_accuracy: 0.7803\n",
      "Epoch 46/200\n",
      "21/21 [==============================] - 0s 4ms/step - loss: 0.4311 - binary_accuracy: 0.8159 - val_loss: 0.4237 - val_binary_accuracy: 0.7803\n",
      "Epoch 47/200\n",
      "21/21 [==============================] - 0s 4ms/step - loss: 0.4291 - binary_accuracy: 0.8099 - val_loss: 0.4240 - val_binary_accuracy: 0.7803\n",
      "Epoch 48/200\n",
      "21/21 [==============================] - 0s 5ms/step - loss: 0.4370 - binary_accuracy: 0.8054 - val_loss: 0.4238 - val_binary_accuracy: 0.7803\n",
      "Epoch 49/200\n",
      "21/21 [==============================] - 0s 4ms/step - loss: 0.4428 - binary_accuracy: 0.7979 - val_loss: 0.4232 - val_binary_accuracy: 0.7803\n",
      "Epoch 50/200\n",
      "21/21 [==============================] - 0s 4ms/step - loss: 0.4324 - binary_accuracy: 0.8159 - val_loss: 0.4230 - val_binary_accuracy: 0.7803\n",
      "Epoch 51/200\n",
      "21/21 [==============================] - 0s 4ms/step - loss: 0.4328 - binary_accuracy: 0.8129 - val_loss: 0.4227 - val_binary_accuracy: 0.7803\n",
      "Epoch 52/200\n",
      "21/21 [==============================] - 0s 4ms/step - loss: 0.4341 - binary_accuracy: 0.8039 - val_loss: 0.4219 - val_binary_accuracy: 0.7803\n",
      "Epoch 53/200\n",
      "21/21 [==============================] - 0s 4ms/step - loss: 0.4318 - binary_accuracy: 0.8129 - val_loss: 0.4224 - val_binary_accuracy: 0.7848\n",
      "Epoch 54/200\n",
      "21/21 [==============================] - 0s 4ms/step - loss: 0.4370 - binary_accuracy: 0.8174 - val_loss: 0.4222 - val_binary_accuracy: 0.7848\n",
      "Epoch 55/200\n",
      "21/21 [==============================] - 0s 4ms/step - loss: 0.4207 - binary_accuracy: 0.8293 - val_loss: 0.4215 - val_binary_accuracy: 0.7803\n",
      "Epoch 56/200\n",
      "21/21 [==============================] - 0s 4ms/step - loss: 0.4263 - binary_accuracy: 0.8069 - val_loss: 0.4212 - val_binary_accuracy: 0.7803\n",
      "Epoch 57/200\n",
      "21/21 [==============================] - 0s 5ms/step - loss: 0.4518 - binary_accuracy: 0.7949 - val_loss: 0.4214 - val_binary_accuracy: 0.7803\n"
     ]
    },
    {
     "data": {
      "text/plain": [
       "<AxesSubplot:title={'center':'Accuracy'}>"
      ]
     },
     "execution_count": 7,
     "metadata": {},
     "output_type": "execute_result"
    },
    {
     "data": {
      "image/png": "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\n",
      "text/plain": [
       "<Figure size 640x480 with 1 Axes>"
      ]
     },
     "metadata": {},
     "output_type": "display_data"
    },
    {
     "data": {
      "image/png": "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\n",
      "text/plain": [
       "<Figure size 640x480 with 1 Axes>"
      ]
     },
     "metadata": {},
     "output_type": "display_data"
    }
   ],
   "source": [
    "#Call optimal parameters from grid result dictionary\n",
    "opt_drop_rate, opt_epochs, opt_learning_rate, opt_layers = grid_result.best_params_['dr'], grid_result.best_params_['epochs'], grid_result.best_params_['lr'], grid_result.best_params_['lyrs']\n",
    "\n",
    "\n",
    "#Apply optimal params to new model\n",
    "model_opt = create_model(lyrs=opt_layers, act='relu', opt='Adam', dr=opt_drop_rate, lr=opt_learning_rate)\n",
    "model_opt.compile(\n",
    "    loss='binary_crossentropy',\n",
    "    metrics=['binary_accuracy'],\n",
    ")\n",
    "\n",
    "\n",
    "early_stopping = keras.callbacks.EarlyStopping(\n",
    "    patience=5,\n",
    "    min_delta=0.001,\n",
    "    restore_best_weights=True, \n",
    ")\n",
    "history = model_opt.fit(\n",
    "    X_train, y_train,\n",
    "    validation_data=(X_valid, y_valid),\n",
    "    batch_size=32,\n",
    "    epochs=opt_epochs,\n",
    "    callbacks=[early_stopping],\n",
    ")\n",
    "\n",
    "history_df = pd.DataFrame(history.history)\n",
    "history_df.loc[:, ['loss', 'val_loss']].plot(title=\"Cross-entropy\")\n",
    "history_df.loc[:, ['binary_accuracy', 'val_binary_accuracy']].plot(title=\"Accuracy\")\n"
   ]
  },
  {
   "cell_type": "code",
   "execution_count": null,
   "id": "c1976154",
   "metadata": {
    "papermill": {
     "duration": 0.03069,
     "end_time": "2023-03-27T21:43:15.587970",
     "exception": false,
     "start_time": "2023-03-27T21:43:15.557280",
     "status": "completed"
    },
    "tags": []
   },
   "outputs": [],
   "source": []
  },
  {
   "cell_type": "code",
   "execution_count": 8,
   "id": "eac0fb24",
   "metadata": {
    "execution": {
     "iopub.execute_input": "2023-03-27T21:43:15.653627Z",
     "iopub.status.busy": "2023-03-27T21:43:15.653077Z",
     "iopub.status.idle": "2023-03-27T21:43:15.852046Z",
     "shell.execute_reply": "2023-03-27T21:43:15.850538Z"
    },
    "papermill": {
     "duration": 0.235539,
     "end_time": "2023-03-27T21:43:15.854905",
     "exception": false,
     "start_time": "2023-03-27T21:43:15.619366",
     "status": "completed"
    },
    "tags": []
   },
   "outputs": [
    {
     "name": "stdout",
     "output_type": "stream",
     "text": [
      "14/14 [==============================] - 0s 2ms/step\n"
     ]
    }
   ],
   "source": [
    "#USe model to make predictions\n",
    "X_test = test_data\n",
    "\n",
    "X_test = preprocessor.transform(X_test)\n",
    "predictions = np.round(model_opt.predict(X_test))\n",
    "\n",
    "\n"
   ]
  },
  {
   "cell_type": "markdown",
   "id": "3c1de402",
   "metadata": {
    "papermill": {
     "duration": 0.031096,
     "end_time": "2023-03-27T21:43:15.917467",
     "exception": false,
     "start_time": "2023-03-27T21:43:15.886371",
     "status": "completed"
    },
    "tags": []
   },
   "source": []
  },
  {
   "cell_type": "code",
   "execution_count": 9,
   "id": "c7498795",
   "metadata": {
    "execution": {
     "iopub.execute_input": "2023-03-27T21:43:15.984506Z",
     "iopub.status.busy": "2023-03-27T21:43:15.983744Z",
     "iopub.status.idle": "2023-03-27T21:43:16.377971Z",
     "shell.execute_reply": "2023-03-27T21:43:16.376694Z"
    },
    "papermill": {
     "duration": 0.430733,
     "end_time": "2023-03-27T21:43:16.381178",
     "exception": false,
     "start_time": "2023-03-27T21:43:15.950445",
     "status": "completed"
    },
    "tags": []
   },
   "outputs": [
    {
     "data": {
      "text/plain": [
       "<AxesSubplot:xlabel='Age', ylabel='Survived'>"
      ]
     },
     "execution_count": 9,
     "metadata": {},
     "output_type": "execute_result"
    },
    {
     "data": {
      "image/png": "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\n",
      "text/plain": [
       "<Figure size 640x480 with 1 Axes>"
      ]
     },
     "metadata": {},
     "output_type": "display_data"
    }
   ],
   "source": [
    "output = pd.DataFrame({'PassengerId': test_data.PassengerId,'Age': test_data['Age'],'Sex': test_data['Sex'], \"Class\": test_data['Pclass'], 'Survived': predictions[:, 0]})\n",
    "sns.scatterplot(data=output, x=output[\"Age\"], y=output[\"Survived\"], hue=\"Class\")"
   ]
  },
  {
   "cell_type": "code",
   "execution_count": 10,
   "id": "081b61c7",
   "metadata": {
    "execution": {
     "iopub.execute_input": "2023-03-27T21:43:16.450236Z",
     "iopub.status.busy": "2023-03-27T21:43:16.449231Z",
     "iopub.status.idle": "2023-03-27T21:43:16.799146Z",
     "shell.execute_reply": "2023-03-27T21:43:16.797904Z"
    },
    "papermill": {
     "duration": 0.387603,
     "end_time": "2023-03-27T21:43:16.801973",
     "exception": false,
     "start_time": "2023-03-27T21:43:16.414370",
     "status": "completed"
    },
    "tags": []
   },
   "outputs": [
    {
     "data": {
      "text/plain": [
       "<AxesSubplot:xlabel='Age', ylabel='Survived'>"
      ]
     },
     "execution_count": 10,
     "metadata": {},
     "output_type": "execute_result"
    },
    {
     "data": {
      "image/png": "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\n",
      "text/plain": [
       "<Figure size 640x480 with 1 Axes>"
      ]
     },
     "metadata": {},
     "output_type": "display_data"
    }
   ],
   "source": [
    "sns.scatterplot(data=output, x=output[\"Age\"], y=output[\"Survived\"], hue=\"Sex\")\n"
   ]
  },
  {
   "cell_type": "code",
   "execution_count": 11,
   "id": "1f801853",
   "metadata": {
    "execution": {
     "iopub.execute_input": "2023-03-27T21:43:16.874031Z",
     "iopub.status.busy": "2023-03-27T21:43:16.872616Z",
     "iopub.status.idle": "2023-03-27T21:43:16.888027Z",
     "shell.execute_reply": "2023-03-27T21:43:16.886352Z"
    },
    "papermill": {
     "duration": 0.053471,
     "end_time": "2023-03-27T21:43:16.890675",
     "exception": false,
     "start_time": "2023-03-27T21:43:16.837204",
     "status": "completed"
    },
    "tags": []
   },
   "outputs": [
    {
     "name": "stdout",
     "output_type": "stream",
     "text": [
      "Your submission was successfully saved!\n"
     ]
    }
   ],
   "source": [
    "output = pd.DataFrame({'PassengerId': test_data.PassengerId, 'Survived': predictions[:, 0]})\n",
    "\n",
    "output.to_csv('submission.csv', index=False)\n",
    "print(\"Your submission was successfully saved!\")"
   ]
  },
  {
   "cell_type": "code",
   "execution_count": null,
   "id": "592a0e9e",
   "metadata": {
    "execution": {
     "iopub.status.busy": "2023-03-26T07:49:43.615996Z",
     "iopub.status.idle": "2023-03-26T07:49:43.616402Z",
     "shell.execute_reply": "2023-03-26T07:49:43.616218Z",
     "shell.execute_reply.started": "2023-03-26T07:49:43.616198Z"
    },
    "papermill": {
     "duration": 0.033381,
     "end_time": "2023-03-27T21:43:16.956897",
     "exception": false,
     "start_time": "2023-03-27T21:43:16.923516",
     "status": "completed"
    },
    "tags": []
   },
   "outputs": [],
   "source": []
  },
  {
   "cell_type": "code",
   "execution_count": null,
   "id": "ff8b2bc1",
   "metadata": {
    "execution": {
     "iopub.status.busy": "2023-03-26T07:49:43.617813Z",
     "iopub.status.idle": "2023-03-26T07:49:43.618189Z",
     "shell.execute_reply": "2023-03-26T07:49:43.618024Z",
     "shell.execute_reply.started": "2023-03-26T07:49:43.618004Z"
    },
    "papermill": {
     "duration": 0.033161,
     "end_time": "2023-03-27T21:43:17.023675",
     "exception": false,
     "start_time": "2023-03-27T21:43:16.990514",
     "status": "completed"
    },
    "tags": []
   },
   "outputs": [],
   "source": []
  },
  {
   "cell_type": "code",
   "execution_count": null,
   "id": "39e2b2eb",
   "metadata": {
    "execution": {
     "iopub.status.busy": "2023-03-26T07:49:43.619226Z",
     "iopub.status.idle": "2023-03-26T07:49:43.619611Z",
     "shell.execute_reply": "2023-03-26T07:49:43.619464Z",
     "shell.execute_reply.started": "2023-03-26T07:49:43.619445Z"
    },
    "papermill": {
     "duration": 0.032993,
     "end_time": "2023-03-27T21:43:17.089455",
     "exception": false,
     "start_time": "2023-03-27T21:43:17.056462",
     "status": "completed"
    },
    "tags": []
   },
   "outputs": [],
   "source": []
  },
  {
   "cell_type": "code",
   "execution_count": null,
   "id": "ed3962aa",
   "metadata": {
    "papermill": {
     "duration": 0.032779,
     "end_time": "2023-03-27T21:43:17.155013",
     "exception": false,
     "start_time": "2023-03-27T21:43:17.122234",
     "status": "completed"
    },
    "tags": []
   },
   "outputs": [],
   "source": []
  },
  {
   "cell_type": "code",
   "execution_count": null,
   "id": "f39aa4bb",
   "metadata": {
    "papermill": {
     "duration": 0.033696,
     "end_time": "2023-03-27T21:43:17.221486",
     "exception": false,
     "start_time": "2023-03-27T21:43:17.187790",
     "status": "completed"
    },
    "tags": []
   },
   "outputs": [],
   "source": []
  },
  {
   "cell_type": "code",
   "execution_count": null,
   "id": "a392cf8e",
   "metadata": {
    "execution": {
     "iopub.status.busy": "2023-03-26T07:49:43.620883Z",
     "iopub.status.idle": "2023-03-26T07:49:43.621278Z",
     "shell.execute_reply": "2023-03-26T07:49:43.621102Z",
     "shell.execute_reply.started": "2023-03-26T07:49:43.621080Z"
    },
    "papermill": {
     "duration": 0.043409,
     "end_time": "2023-03-27T21:43:17.303724",
     "exception": false,
     "start_time": "2023-03-27T21:43:17.260315",
     "status": "completed"
    },
    "tags": []
   },
   "outputs": [],
   "source": []
  },
  {
   "cell_type": "code",
   "execution_count": null,
   "id": "1f0638ef",
   "metadata": {
    "papermill": {
     "duration": 0.032541,
     "end_time": "2023-03-27T21:43:17.378893",
     "exception": false,
     "start_time": "2023-03-27T21:43:17.346352",
     "status": "completed"
    },
    "tags": []
   },
   "outputs": [],
   "source": []
  },
  {
   "cell_type": "code",
   "execution_count": null,
   "id": "5db9c5ce",
   "metadata": {
    "execution": {
     "iopub.status.busy": "2023-03-26T07:49:43.622429Z",
     "iopub.status.idle": "2023-03-26T07:49:43.622775Z",
     "shell.execute_reply": "2023-03-26T07:49:43.622632Z",
     "shell.execute_reply.started": "2023-03-26T07:49:43.622613Z"
    },
    "papermill": {
     "duration": 0.032477,
     "end_time": "2023-03-27T21:43:17.444899",
     "exception": false,
     "start_time": "2023-03-27T21:43:17.412422",
     "status": "completed"
    },
    "tags": []
   },
   "outputs": [],
   "source": []
  },
  {
   "cell_type": "code",
   "execution_count": null,
   "id": "f8366617",
   "metadata": {
    "execution": {
     "iopub.execute_input": "2023-03-26T09:42:51.851887Z",
     "iopub.status.busy": "2023-03-26T09:42:51.851370Z",
     "iopub.status.idle": "2023-03-26T09:42:51.920348Z",
     "shell.execute_reply": "2023-03-26T09:42:51.919270Z",
     "shell.execute_reply.started": "2023-03-26T09:42:51.851860Z"
    },
    "papermill": {
     "duration": 0.032219,
     "end_time": "2023-03-27T21:43:17.510170",
     "exception": false,
     "start_time": "2023-03-27T21:43:17.477951",
     "status": "completed"
    },
    "tags": []
   },
   "outputs": [],
   "source": []
  },
  {
   "cell_type": "code",
   "execution_count": null,
   "id": "8625b91f",
   "metadata": {
    "execution": {
     "iopub.status.busy": "2023-03-26T07:49:43.627104Z",
     "iopub.status.idle": "2023-03-26T07:49:43.627728Z",
     "shell.execute_reply": "2023-03-26T07:49:43.627467Z",
     "shell.execute_reply.started": "2023-03-26T07:49:43.627438Z"
    },
    "papermill": {
     "duration": 0.032996,
     "end_time": "2023-03-27T21:43:17.575573",
     "exception": false,
     "start_time": "2023-03-27T21:43:17.542577",
     "status": "completed"
    },
    "tags": []
   },
   "outputs": [],
   "source": []
  },
  {
   "cell_type": "code",
   "execution_count": null,
   "id": "0fd48394",
   "metadata": {
    "execution": {
     "iopub.execute_input": "2023-03-26T08:00:41.007648Z",
     "iopub.status.busy": "2023-03-26T08:00:41.007126Z",
     "iopub.status.idle": "2023-03-26T08:00:41.042121Z",
     "shell.execute_reply": "2023-03-26T08:00:41.040525Z",
     "shell.execute_reply.started": "2023-03-26T08:00:41.007600Z"
    },
    "papermill": {
     "duration": 0.032318,
     "end_time": "2023-03-27T21:43:17.640827",
     "exception": false,
     "start_time": "2023-03-27T21:43:17.608509",
     "status": "completed"
    },
    "tags": []
   },
   "outputs": [],
   "source": []
  },
  {
   "cell_type": "code",
   "execution_count": null,
   "id": "0d566a03",
   "metadata": {
    "papermill": {
     "duration": 0.032605,
     "end_time": "2023-03-27T21:43:17.706644",
     "exception": false,
     "start_time": "2023-03-27T21:43:17.674039",
     "status": "completed"
    },
    "tags": []
   },
   "outputs": [],
   "source": []
  }
 ],
 "metadata": {
  "kernelspec": {
   "display_name": "Python 3",
   "language": "python",
   "name": "python3"
  },
  "language_info": {
   "codemirror_mode": {
    "name": "ipython",
    "version": 3
   },
   "file_extension": ".py",
   "mimetype": "text/x-python",
   "name": "python",
   "nbconvert_exporter": "python",
   "pygments_lexer": "ipython3",
   "version": "3.7.12"
  },
  "papermill": {
   "default_parameters": {},
   "duration": 1795.720499,
   "end_time": "2023-03-27T21:43:21.261314",
   "environment_variables": {},
   "exception": null,
   "input_path": "__notebook__.ipynb",
   "output_path": "__notebook__.ipynb",
   "parameters": {},
   "start_time": "2023-03-27T21:13:25.540815",
   "version": "2.4.0"
  }
 },
 "nbformat": 4,
 "nbformat_minor": 5
}
